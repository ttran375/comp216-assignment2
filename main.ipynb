{
 "cells": [
  {
   "cell_type": "markdown",
   "metadata": {},
   "source": [
    "# Lab Exercise\n",
    "\n",
    "## Lecture 1\n",
    "\n"
   ]
  },
  {
   "cell_type": "markdown",
   "metadata": {},
   "source": [
    "### Question 1\n",
    "\n",
    "Create a one-line expression that achieve the same output as the below with the square bracket notation.\n",
    "\n",
    "``` python\n",
    "NBA = dict(\n",
    "    OklahomaCity=\"Thunder\",\n",
    "    Dallas=\"Mavericks\",\n",
    "    Boston=\"Celtics\",\n",
    "    NewYork=\"Knicks\",\n",
    "    Denver=\"Nuggets\",\n",
    ")\n",
    "\n",
    "retrieve = NBA.get(\"Toronto\", False)\n",
    "print(retrieve)\n",
    "```"
   ]
  },
  {
   "cell_type": "code",
   "execution_count": null,
   "metadata": {
    "vscode": {
     "languageId": "plaintext"
    }
   },
   "outputs": [],
   "source": []
  }
 ],
 "metadata": {
  "language_info": {
   "name": "python"
  }
 },
 "nbformat": 4,
 "nbformat_minor": 2
}
